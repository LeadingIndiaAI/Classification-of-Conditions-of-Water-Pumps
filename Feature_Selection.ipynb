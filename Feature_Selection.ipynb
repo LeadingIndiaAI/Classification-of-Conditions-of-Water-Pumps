{
 "cells": [
  {
   "cell_type": "code",
   "execution_count": 1,
   "metadata": {
    "colab": {
     "base_uri": "https://localhost:8080/",
     "height": 84
    },
    "colab_type": "code",
    "id": "EsftXYz6JD_F",
    "outputId": "6515f937-8989-4bc4-fa54-637d6de4298e"
   },
   "outputs": [
    {
     "name": "stdout",
     "output_type": "stream",
     "text": [
      "Python version 3.6.9 (default, Nov  7 2019, 10:44:02) \n",
      "[GCC 8.3.0]\n",
      "Pandas version 0.25.3\n",
      "Matplotlib version 3.1.2\n"
     ]
    }
   ],
   "source": [
    "#Importing the libraries\n",
    "import pandas as pd\n",
    "import numpy as np\n",
    "import matplotlib\n",
    "import matplotlib.pyplot as plt\n",
    "import sys\n",
    "%matplotlib inline\n",
    "\n",
    "from IPython.core.interactiveshell import InteractiveShell\n",
    "InteractiveShell.ast_node_interactivity = \"all\"\n",
    "\n",
    "print('Python version ' + sys.version)\n",
    "print('Pandas version ' + pd.__version__)\n",
    "print('Matplotlib version ' + matplotlib.__version__)"
   ]
  },
  {
   "cell_type": "code",
   "execution_count": 0,
   "metadata": {
    "colab": {},
    "colab_type": "code",
    "collapsed": true,
    "id": "LMa9AfBtLEF7"
   },
   "outputs": [],
   "source": [
    "from sklearn.ensemble import RandomForestClassifier\n",
    "from collections import OrderedDict\n",
    "import csv\n",
    "import os.path"
   ]
  },
  {
   "cell_type": "code",
   "execution_count": 0,
   "metadata": {
    "colab": {},
    "colab_type": "code",
    "collapsed": true,
    "id": "8-ejG_J0JplS"
   },
   "outputs": [],
   "source": [
    "#Reading encoded data\n",
    "train_values = pd.read_csv('dummified_X.csv')\n",
    "y_values = pd.read_csv('dummified_y.csv')"
   ]
  },
  {
   "cell_type": "code",
   "execution_count": 0,
   "metadata": {
    "colab": {},
    "colab_type": "code",
    "collapsed": true,
    "id": "09kSkLm3LPQy"
   },
   "outputs": [],
   "source": [
    "#Dropping unwanted 'Unnamed' column\n",
    "train_values=train_values.drop('Unnamed: 0',axis=1)\n",
    "y_values=y_values.drop('Unnamed: 0',axis=1)"
   ]
  },
  {
   "cell_type": "code",
   "execution_count": 0,
   "metadata": {
    "colab": {},
    "colab_type": "code",
    "collapsed": true,
    "id": "-fmVnl7CLFpE"
   },
   "outputs": [],
   "source": [
    "#Selecting features"
   ]
  },
  {
   "cell_type": "code",
   "execution_count": 0,
   "metadata": {
    "colab": {},
    "colab_type": "code",
    "collapsed": true,
    "id": "zk_6PgeIKfSD"
   },
   "outputs": [],
   "source": [
    "exclude = (\"id\", \"test\", \"train\", \"status_group\", \"num_private\", \"scheme_name\",\n",
    "           'waterpoint_type_group',\n",
    "           'quality_group',\n",
    "           'payment_type',\n",
    "           'extraction_type_group',\n",
    "           'extraction_type_class',\n",
    "           'management_group',\n",
    "           'source_type',\n",
    "           'source_class')"
   ]
  },
  {
   "cell_type": "code",
   "execution_count": 0,
   "metadata": {
    "colab": {},
    "colab_type": "code",
    "collapsed": true,
    "id": "WcSYQW3hKqk9"
   },
   "outputs": [],
   "source": [
    "# Select all features except which start with a string in exclude\n",
    "features = [col for col in list(train_values) if not col.startswith(exclude)]"
   ]
  },
  {
   "cell_type": "code",
   "execution_count": 0,
   "metadata": {
    "colab": {},
    "colab_type": "code",
    "collapsed": true,
    "id": "i4ioDRClStgo"
   },
   "outputs": [],
   "source": [
    "final=train_values[features]"
   ]
  },
  {
   "cell_type": "code",
   "execution_count": 10,
   "metadata": {
    "colab": {
     "base_uri": "https://localhost:8080/",
     "height": 278
    },
    "colab_type": "code",
    "id": "13h-jdHmS4jO",
    "outputId": "1d2388a8-960a-4582-e8fc-12fa769412b0"
   },
   "outputs": [
    {
     "data": {
      "text/html": [
       "<div>\n",
       "<style scoped>\n",
       "    .dataframe tbody tr th:only-of-type {\n",
       "        vertical-align: middle;\n",
       "    }\n",
       "\n",
       "    .dataframe tbody tr th {\n",
       "        vertical-align: top;\n",
       "    }\n",
       "\n",
       "    .dataframe thead th {\n",
       "        text-align: right;\n",
       "    }\n",
       "</style>\n",
       "<table border=\"1\" class=\"dataframe\">\n",
       "  <thead>\n",
       "    <tr style=\"text-align: right;\">\n",
       "      <th></th>\n",
       "      <th>amount_tsh</th>\n",
       "      <th>days_since_recorded</th>\n",
       "      <th>gps_height</th>\n",
       "      <th>population</th>\n",
       "      <th>funder_District Council</th>\n",
       "      <th>funder_Kkkt</th>\n",
       "      <th>funder_Tasaf</th>\n",
       "      <th>funder_Unicef</th>\n",
       "      <th>funder_World Vision</th>\n",
       "      <th>funder_danida</th>\n",
       "      <th>funder_gov</th>\n",
       "      <th>funder_hesawa</th>\n",
       "      <th>funder_other</th>\n",
       "      <th>funder_rwssp</th>\n",
       "      <th>funder_world_bank</th>\n",
       "      <th>installer_Central government</th>\n",
       "      <th>installer_commu</th>\n",
       "      <th>installer_danida</th>\n",
       "      <th>installer_dwe</th>\n",
       "      <th>installer_gov</th>\n",
       "      <th>installer_hesawa</th>\n",
       "      <th>installer_kkkt</th>\n",
       "      <th>installer_other</th>\n",
       "      <th>installer_rwe</th>\n",
       "      <th>installer_tcrs</th>\n",
       "      <th>basin_Internal</th>\n",
       "      <th>basin_Lake Nyasa</th>\n",
       "      <th>basin_Lake Rukwa</th>\n",
       "      <th>basin_Lake Tanganyika</th>\n",
       "      <th>basin_Lake Victoria</th>\n",
       "      <th>basin_Pangani</th>\n",
       "      <th>basin_Rufiji</th>\n",
       "      <th>basin_Ruvuma / Southern Coast</th>\n",
       "      <th>basin_Wami / Ruvu</th>\n",
       "      <th>public_meeting_False</th>\n",
       "      <th>public_meeting_True</th>\n",
       "      <th>public_meeting_Unknown</th>\n",
       "      <th>scheme_management_Parastatal</th>\n",
       "      <th>scheme_management_company</th>\n",
       "      <th>scheme_management_other</th>\n",
       "      <th>...</th>\n",
       "      <th>permit_True</th>\n",
       "      <th>permit_Unknown</th>\n",
       "      <th>construction_year_00s</th>\n",
       "      <th>construction_year_10s</th>\n",
       "      <th>construction_year_60s</th>\n",
       "      <th>construction_year_70s</th>\n",
       "      <th>construction_year_80s</th>\n",
       "      <th>construction_year_90s</th>\n",
       "      <th>construction_year_unknown</th>\n",
       "      <th>extraction_type_afridev</th>\n",
       "      <th>extraction_type_gravity</th>\n",
       "      <th>extraction_type_indiamark2</th>\n",
       "      <th>extraction_type_indiamark3</th>\n",
       "      <th>extraction_type_ksb</th>\n",
       "      <th>extraction_type_mono</th>\n",
       "      <th>extraction_type_nira</th>\n",
       "      <th>extraction_type_other</th>\n",
       "      <th>extraction_type_submersible</th>\n",
       "      <th>extraction_type_swn</th>\n",
       "      <th>extraction_type_windmill</th>\n",
       "      <th>water_quality_coloured</th>\n",
       "      <th>water_quality_fluoride</th>\n",
       "      <th>water_quality_fluoride abandoned</th>\n",
       "      <th>water_quality_milky</th>\n",
       "      <th>water_quality_salty</th>\n",
       "      <th>water_quality_salty abandoned</th>\n",
       "      <th>water_quality_soft</th>\n",
       "      <th>water_quality_unknown</th>\n",
       "      <th>quantity_group_dry</th>\n",
       "      <th>quantity_group_enough</th>\n",
       "      <th>quantity_group_insufficient</th>\n",
       "      <th>quantity_group_seasonal</th>\n",
       "      <th>quantity_group_unknown</th>\n",
       "      <th>waterpoint_type_cattle trough</th>\n",
       "      <th>waterpoint_type_communal standpipe</th>\n",
       "      <th>waterpoint_type_communal standpipe multiple</th>\n",
       "      <th>waterpoint_type_dam</th>\n",
       "      <th>waterpoint_type_hand pump</th>\n",
       "      <th>waterpoint_type_improved spring</th>\n",
       "      <th>waterpoint_type_other</th>\n",
       "    </tr>\n",
       "  </thead>\n",
       "  <tbody>\n",
       "    <tr>\n",
       "      <th>0</th>\n",
       "      <td>6000.0</td>\n",
       "      <td>995</td>\n",
       "      <td>1390</td>\n",
       "      <td>109</td>\n",
       "      <td>0</td>\n",
       "      <td>0</td>\n",
       "      <td>0</td>\n",
       "      <td>0</td>\n",
       "      <td>0</td>\n",
       "      <td>0</td>\n",
       "      <td>0</td>\n",
       "      <td>0</td>\n",
       "      <td>1</td>\n",
       "      <td>0</td>\n",
       "      <td>0</td>\n",
       "      <td>0</td>\n",
       "      <td>0</td>\n",
       "      <td>0</td>\n",
       "      <td>0</td>\n",
       "      <td>0</td>\n",
       "      <td>0</td>\n",
       "      <td>0</td>\n",
       "      <td>1</td>\n",
       "      <td>0</td>\n",
       "      <td>0</td>\n",
       "      <td>0</td>\n",
       "      <td>1</td>\n",
       "      <td>0</td>\n",
       "      <td>0</td>\n",
       "      <td>0</td>\n",
       "      <td>0</td>\n",
       "      <td>0</td>\n",
       "      <td>0</td>\n",
       "      <td>0</td>\n",
       "      <td>0</td>\n",
       "      <td>1</td>\n",
       "      <td>0</td>\n",
       "      <td>0</td>\n",
       "      <td>0</td>\n",
       "      <td>0</td>\n",
       "      <td>...</td>\n",
       "      <td>0</td>\n",
       "      <td>0</td>\n",
       "      <td>0</td>\n",
       "      <td>0</td>\n",
       "      <td>0</td>\n",
       "      <td>0</td>\n",
       "      <td>0</td>\n",
       "      <td>1</td>\n",
       "      <td>0</td>\n",
       "      <td>0</td>\n",
       "      <td>1</td>\n",
       "      <td>0</td>\n",
       "      <td>0</td>\n",
       "      <td>0</td>\n",
       "      <td>0</td>\n",
       "      <td>0</td>\n",
       "      <td>0</td>\n",
       "      <td>0</td>\n",
       "      <td>0</td>\n",
       "      <td>0</td>\n",
       "      <td>0</td>\n",
       "      <td>0</td>\n",
       "      <td>0</td>\n",
       "      <td>0</td>\n",
       "      <td>0</td>\n",
       "      <td>0</td>\n",
       "      <td>1</td>\n",
       "      <td>0</td>\n",
       "      <td>0</td>\n",
       "      <td>1</td>\n",
       "      <td>0</td>\n",
       "      <td>0</td>\n",
       "      <td>0</td>\n",
       "      <td>0</td>\n",
       "      <td>1</td>\n",
       "      <td>0</td>\n",
       "      <td>0</td>\n",
       "      <td>0</td>\n",
       "      <td>0</td>\n",
       "      <td>0</td>\n",
       "    </tr>\n",
       "    <tr>\n",
       "      <th>1</th>\n",
       "      <td>0.0</td>\n",
       "      <td>272</td>\n",
       "      <td>1399</td>\n",
       "      <td>280</td>\n",
       "      <td>0</td>\n",
       "      <td>0</td>\n",
       "      <td>0</td>\n",
       "      <td>0</td>\n",
       "      <td>0</td>\n",
       "      <td>0</td>\n",
       "      <td>0</td>\n",
       "      <td>0</td>\n",
       "      <td>1</td>\n",
       "      <td>0</td>\n",
       "      <td>0</td>\n",
       "      <td>0</td>\n",
       "      <td>0</td>\n",
       "      <td>0</td>\n",
       "      <td>0</td>\n",
       "      <td>0</td>\n",
       "      <td>0</td>\n",
       "      <td>0</td>\n",
       "      <td>1</td>\n",
       "      <td>0</td>\n",
       "      <td>0</td>\n",
       "      <td>0</td>\n",
       "      <td>0</td>\n",
       "      <td>0</td>\n",
       "      <td>0</td>\n",
       "      <td>1</td>\n",
       "      <td>0</td>\n",
       "      <td>0</td>\n",
       "      <td>0</td>\n",
       "      <td>0</td>\n",
       "      <td>0</td>\n",
       "      <td>0</td>\n",
       "      <td>1</td>\n",
       "      <td>0</td>\n",
       "      <td>0</td>\n",
       "      <td>1</td>\n",
       "      <td>...</td>\n",
       "      <td>1</td>\n",
       "      <td>0</td>\n",
       "      <td>0</td>\n",
       "      <td>1</td>\n",
       "      <td>0</td>\n",
       "      <td>0</td>\n",
       "      <td>0</td>\n",
       "      <td>0</td>\n",
       "      <td>0</td>\n",
       "      <td>0</td>\n",
       "      <td>1</td>\n",
       "      <td>0</td>\n",
       "      <td>0</td>\n",
       "      <td>0</td>\n",
       "      <td>0</td>\n",
       "      <td>0</td>\n",
       "      <td>0</td>\n",
       "      <td>0</td>\n",
       "      <td>0</td>\n",
       "      <td>0</td>\n",
       "      <td>0</td>\n",
       "      <td>0</td>\n",
       "      <td>0</td>\n",
       "      <td>0</td>\n",
       "      <td>0</td>\n",
       "      <td>0</td>\n",
       "      <td>1</td>\n",
       "      <td>0</td>\n",
       "      <td>0</td>\n",
       "      <td>0</td>\n",
       "      <td>1</td>\n",
       "      <td>0</td>\n",
       "      <td>0</td>\n",
       "      <td>0</td>\n",
       "      <td>1</td>\n",
       "      <td>0</td>\n",
       "      <td>0</td>\n",
       "      <td>0</td>\n",
       "      <td>0</td>\n",
       "      <td>0</td>\n",
       "    </tr>\n",
       "    <tr>\n",
       "      <th>2</th>\n",
       "      <td>25.0</td>\n",
       "      <td>281</td>\n",
       "      <td>686</td>\n",
       "      <td>250</td>\n",
       "      <td>0</td>\n",
       "      <td>0</td>\n",
       "      <td>0</td>\n",
       "      <td>0</td>\n",
       "      <td>0</td>\n",
       "      <td>0</td>\n",
       "      <td>0</td>\n",
       "      <td>0</td>\n",
       "      <td>1</td>\n",
       "      <td>0</td>\n",
       "      <td>0</td>\n",
       "      <td>0</td>\n",
       "      <td>0</td>\n",
       "      <td>0</td>\n",
       "      <td>0</td>\n",
       "      <td>0</td>\n",
       "      <td>0</td>\n",
       "      <td>0</td>\n",
       "      <td>1</td>\n",
       "      <td>0</td>\n",
       "      <td>0</td>\n",
       "      <td>0</td>\n",
       "      <td>0</td>\n",
       "      <td>0</td>\n",
       "      <td>0</td>\n",
       "      <td>0</td>\n",
       "      <td>1</td>\n",
       "      <td>0</td>\n",
       "      <td>0</td>\n",
       "      <td>0</td>\n",
       "      <td>0</td>\n",
       "      <td>1</td>\n",
       "      <td>0</td>\n",
       "      <td>0</td>\n",
       "      <td>0</td>\n",
       "      <td>0</td>\n",
       "      <td>...</td>\n",
       "      <td>1</td>\n",
       "      <td>0</td>\n",
       "      <td>1</td>\n",
       "      <td>0</td>\n",
       "      <td>0</td>\n",
       "      <td>0</td>\n",
       "      <td>0</td>\n",
       "      <td>0</td>\n",
       "      <td>0</td>\n",
       "      <td>0</td>\n",
       "      <td>1</td>\n",
       "      <td>0</td>\n",
       "      <td>0</td>\n",
       "      <td>0</td>\n",
       "      <td>0</td>\n",
       "      <td>0</td>\n",
       "      <td>0</td>\n",
       "      <td>0</td>\n",
       "      <td>0</td>\n",
       "      <td>0</td>\n",
       "      <td>0</td>\n",
       "      <td>0</td>\n",
       "      <td>0</td>\n",
       "      <td>0</td>\n",
       "      <td>0</td>\n",
       "      <td>0</td>\n",
       "      <td>1</td>\n",
       "      <td>0</td>\n",
       "      <td>0</td>\n",
       "      <td>1</td>\n",
       "      <td>0</td>\n",
       "      <td>0</td>\n",
       "      <td>0</td>\n",
       "      <td>0</td>\n",
       "      <td>0</td>\n",
       "      <td>1</td>\n",
       "      <td>0</td>\n",
       "      <td>0</td>\n",
       "      <td>0</td>\n",
       "      <td>0</td>\n",
       "    </tr>\n",
       "    <tr>\n",
       "      <th>3</th>\n",
       "      <td>0.0</td>\n",
       "      <td>309</td>\n",
       "      <td>263</td>\n",
       "      <td>58</td>\n",
       "      <td>0</td>\n",
       "      <td>0</td>\n",
       "      <td>0</td>\n",
       "      <td>1</td>\n",
       "      <td>0</td>\n",
       "      <td>0</td>\n",
       "      <td>0</td>\n",
       "      <td>0</td>\n",
       "      <td>0</td>\n",
       "      <td>0</td>\n",
       "      <td>0</td>\n",
       "      <td>0</td>\n",
       "      <td>0</td>\n",
       "      <td>0</td>\n",
       "      <td>0</td>\n",
       "      <td>0</td>\n",
       "      <td>0</td>\n",
       "      <td>0</td>\n",
       "      <td>1</td>\n",
       "      <td>0</td>\n",
       "      <td>0</td>\n",
       "      <td>0</td>\n",
       "      <td>0</td>\n",
       "      <td>0</td>\n",
       "      <td>0</td>\n",
       "      <td>0</td>\n",
       "      <td>0</td>\n",
       "      <td>0</td>\n",
       "      <td>1</td>\n",
       "      <td>0</td>\n",
       "      <td>0</td>\n",
       "      <td>1</td>\n",
       "      <td>0</td>\n",
       "      <td>0</td>\n",
       "      <td>0</td>\n",
       "      <td>0</td>\n",
       "      <td>...</td>\n",
       "      <td>1</td>\n",
       "      <td>0</td>\n",
       "      <td>0</td>\n",
       "      <td>0</td>\n",
       "      <td>0</td>\n",
       "      <td>0</td>\n",
       "      <td>1</td>\n",
       "      <td>0</td>\n",
       "      <td>0</td>\n",
       "      <td>0</td>\n",
       "      <td>0</td>\n",
       "      <td>0</td>\n",
       "      <td>0</td>\n",
       "      <td>0</td>\n",
       "      <td>0</td>\n",
       "      <td>0</td>\n",
       "      <td>0</td>\n",
       "      <td>1</td>\n",
       "      <td>0</td>\n",
       "      <td>0</td>\n",
       "      <td>0</td>\n",
       "      <td>0</td>\n",
       "      <td>0</td>\n",
       "      <td>0</td>\n",
       "      <td>0</td>\n",
       "      <td>0</td>\n",
       "      <td>1</td>\n",
       "      <td>0</td>\n",
       "      <td>1</td>\n",
       "      <td>0</td>\n",
       "      <td>0</td>\n",
       "      <td>0</td>\n",
       "      <td>0</td>\n",
       "      <td>0</td>\n",
       "      <td>0</td>\n",
       "      <td>1</td>\n",
       "      <td>0</td>\n",
       "      <td>0</td>\n",
       "      <td>0</td>\n",
       "      <td>0</td>\n",
       "    </tr>\n",
       "    <tr>\n",
       "      <th>4</th>\n",
       "      <td>0.0</td>\n",
       "      <td>874</td>\n",
       "      <td>0</td>\n",
       "      <td>0</td>\n",
       "      <td>0</td>\n",
       "      <td>0</td>\n",
       "      <td>0</td>\n",
       "      <td>0</td>\n",
       "      <td>0</td>\n",
       "      <td>0</td>\n",
       "      <td>0</td>\n",
       "      <td>0</td>\n",
       "      <td>1</td>\n",
       "      <td>0</td>\n",
       "      <td>0</td>\n",
       "      <td>0</td>\n",
       "      <td>0</td>\n",
       "      <td>0</td>\n",
       "      <td>0</td>\n",
       "      <td>0</td>\n",
       "      <td>0</td>\n",
       "      <td>0</td>\n",
       "      <td>1</td>\n",
       "      <td>0</td>\n",
       "      <td>0</td>\n",
       "      <td>0</td>\n",
       "      <td>0</td>\n",
       "      <td>0</td>\n",
       "      <td>0</td>\n",
       "      <td>1</td>\n",
       "      <td>0</td>\n",
       "      <td>0</td>\n",
       "      <td>0</td>\n",
       "      <td>0</td>\n",
       "      <td>0</td>\n",
       "      <td>1</td>\n",
       "      <td>0</td>\n",
       "      <td>0</td>\n",
       "      <td>0</td>\n",
       "      <td>1</td>\n",
       "      <td>...</td>\n",
       "      <td>1</td>\n",
       "      <td>0</td>\n",
       "      <td>0</td>\n",
       "      <td>0</td>\n",
       "      <td>0</td>\n",
       "      <td>0</td>\n",
       "      <td>0</td>\n",
       "      <td>0</td>\n",
       "      <td>1</td>\n",
       "      <td>0</td>\n",
       "      <td>1</td>\n",
       "      <td>0</td>\n",
       "      <td>0</td>\n",
       "      <td>0</td>\n",
       "      <td>0</td>\n",
       "      <td>0</td>\n",
       "      <td>0</td>\n",
       "      <td>0</td>\n",
       "      <td>0</td>\n",
       "      <td>0</td>\n",
       "      <td>0</td>\n",
       "      <td>0</td>\n",
       "      <td>0</td>\n",
       "      <td>0</td>\n",
       "      <td>0</td>\n",
       "      <td>0</td>\n",
       "      <td>1</td>\n",
       "      <td>0</td>\n",
       "      <td>0</td>\n",
       "      <td>0</td>\n",
       "      <td>0</td>\n",
       "      <td>1</td>\n",
       "      <td>0</td>\n",
       "      <td>0</td>\n",
       "      <td>1</td>\n",
       "      <td>0</td>\n",
       "      <td>0</td>\n",
       "      <td>0</td>\n",
       "      <td>0</td>\n",
       "      <td>0</td>\n",
       "    </tr>\n",
       "  </tbody>\n",
       "</table>\n",
       "<p>5 rows × 89 columns</p>\n",
       "</div>"
      ],
      "text/plain": [
       "   amount_tsh  ...  waterpoint_type_other\n",
       "0      6000.0  ...                      0\n",
       "1         0.0  ...                      0\n",
       "2        25.0  ...                      0\n",
       "3         0.0  ...                      0\n",
       "4         0.0  ...                      0\n",
       "\n",
       "[5 rows x 89 columns]"
      ]
     },
     "execution_count": 10,
     "metadata": {
      "tags": []
     },
     "output_type": "execute_result"
    }
   ],
   "source": [
    "train_values[features].head()"
   ]
  },
  {
   "cell_type": "code",
   "execution_count": 0,
   "metadata": {
    "colab": {},
    "colab_type": "code",
    "collapsed": true,
    "id": "iZPrYQzvR_T3"
   },
   "outputs": [],
   "source": [
    "#StandardScaler to normalize\n",
    "from sklearn.preprocessing import StandardScaler\n",
    "sc_x=StandardScaler()\n",
    "final_data=sc_x.fit_transform(train_values[features])"
   ]
  },
  {
   "cell_type": "code",
   "execution_count": 0,
   "metadata": {
    "colab": {},
    "colab_type": "code",
    "collapsed": true,
    "id": "HxcNLTS7SZoQ"
   },
   "outputs": [],
   "source": [
    "final_data=pd.DataFrame(final_data,columns=features)"
   ]
  },
  {
   "cell_type": "code",
   "execution_count": 0,
   "metadata": {
    "colab": {},
    "colab_type": "code",
    "collapsed": true,
    "id": "8DFsImhMKyji"
   },
   "outputs": [],
   "source": [
    "import sklearn.model_selection \n",
    "X_train, X_test, y_train, y_test = sklearn.model_selection.train_test_split(final_data, \n",
    "                                                                             y_values, \n",
    "                                                                             test_size = 0.3, \n",
    "                                                                             random_state = 0)"
   ]
  },
  {
   "cell_type": "code",
   "execution_count": 0,
   "metadata": {
    "colab": {},
    "colab_type": "code",
    "collapsed": true,
    "id": "RXmkPtFJKspG"
   },
   "outputs": [],
   "source": [
    "clf = RandomForestClassifier(n_estimators=50, \n",
    "                                 min_samples_leaf=2, \n",
    "                                 max_features=0.20, \n",
    "                                 oob_score=True, \n",
    "                                 random_state=20).fit(X_train[features],\n",
    "                                                      y_train)"
   ]
  },
  {
   "cell_type": "code",
   "execution_count": 17,
   "metadata": {
    "colab": {
     "base_uri": "https://localhost:8080/",
     "height": 34
    },
    "colab_type": "code",
    "id": "4eHbb1r6K9td",
    "outputId": "82bf4935-7f35-4b4b-993b-032a0c1c1024"
   },
   "outputs": [
    {
     "data": {
      "text/plain": [
       "0.8640692640692641"
      ]
     },
     "execution_count": 17,
     "metadata": {
      "tags": []
     },
     "output_type": "execute_result"
    }
   ],
   "source": [
    "clf.score(X_train[features],y_train)"
   ]
  },
  {
   "cell_type": "code",
   "execution_count": 18,
   "metadata": {
    "colab": {
     "base_uri": "https://localhost:8080/",
     "height": 34
    },
    "colab_type": "code",
    "id": "wN9uJhjINYtl",
    "outputId": "4b5f9ad0-31a9-443f-f5de-751c7a5a35a6"
   },
   "outputs": [
    {
     "data": {
      "text/plain": [
       "0.7699775533108867"
      ]
     },
     "execution_count": 18,
     "metadata": {
      "tags": []
     },
     "output_type": "execute_result"
    }
   ],
   "source": [
    "clf.score(X_test[features],y_test)"
   ]
  },
  {
   "cell_type": "code",
   "execution_count": 19,
   "metadata": {
    "colab": {
     "base_uri": "https://localhost:8080/",
     "height": 403
    },
    "colab_type": "code",
    "id": "A2nUAZzvOaDL",
    "outputId": "ba33e393-b473-420d-f440-f8e1f0af74f5"
   },
   "outputs": [
    {
     "data": {
      "text/plain": [
       "array([4.46727660e-02, 1.22738731e-01, 9.23606694e-02, 6.06676065e-02,\n",
       "       1.61351021e-03, 1.12333696e-03, 1.90195789e-03, 1.87644091e-03,\n",
       "       2.26320208e-03, 2.66447402e-03, 1.09638914e-02, 3.37274767e-03,\n",
       "       1.21757277e-02, 1.88347112e-03, 3.20264220e-03, 9.27349039e-04,\n",
       "       1.03274856e-03, 9.32909059e-04, 1.18591160e-02, 3.83174880e-03,\n",
       "       1.53148328e-03, 7.02563001e-04, 1.15198548e-02, 4.58789988e-03,\n",
       "       1.88404097e-03, 8.29765987e-03, 5.73514378e-03, 5.24414198e-03,\n",
       "       9.70542333e-03, 9.16371827e-03, 6.12160664e-03, 5.48925436e-03,\n",
       "       5.79724888e-03, 6.02307234e-03, 7.00496006e-03, 7.57740277e-03,\n",
       "       4.06198711e-03, 2.88443283e-03, 3.70527216e-03, 5.17122674e-03,\n",
       "       1.34399374e-03, 1.67461841e-04, 1.78066804e-04, 1.22556494e-02,\n",
       "       5.74225406e-03, 3.40777242e-03, 3.09584774e-03, 6.10273980e-03,\n",
       "       1.05772122e-02, 1.05738035e-02, 3.36040658e-03, 1.14347634e-02,\n",
       "       1.04614085e-02, 1.03716222e-03, 1.10050829e-02, 7.82987167e-03,\n",
       "       6.47110791e-03, 6.23158285e-03, 2.38498312e-03, 1.46720914e-02,\n",
       "       2.83468153e-03, 5.58924510e-04, 5.34077835e-03, 4.06697159e-03,\n",
       "       7.84047276e-03, 4.06481158e-02, 5.70645043e-03, 3.82176043e-03,\n",
       "       2.88188277e-04, 8.22809611e-04, 5.88982610e-04, 5.53212668e-06,\n",
       "       1.42793982e-03, 4.94461025e-03, 1.16373329e-03, 7.53896783e-03,\n",
       "       7.32460671e-03, 1.24139430e-01, 3.55444810e-02, 1.59988878e-02,\n",
       "       7.82468712e-03, 2.47834781e-03, 2.84918001e-04, 1.48331526e-02,\n",
       "       1.65890858e-02, 2.31167034e-05, 9.85618291e-03, 2.56874493e-03,\n",
       "       5.23287375e-02])"
      ]
     },
     "execution_count": 19,
     "metadata": {
      "tags": []
     },
     "output_type": "execute_result"
    }
   ],
   "source": [
    "clf.feature_importances_"
   ]
  },
  {
   "cell_type": "code",
   "execution_count": 0,
   "metadata": {
    "colab": {},
    "colab_type": "code",
    "collapsed": true,
    "id": "J16lnSIDOgJB"
   },
   "outputs": [],
   "source": [
    "clf = RandomForestClassifier(n_estimators=50, \n",
    "                                 min_samples_leaf=2, \n",
    "                                 max_features=0.50, \n",
    "                                 oob_score=True, \n",
    "                                 random_state=20).fit(X_train[features],\n",
    "                                                      y_train)"
   ]
  },
  {
   "cell_type": "code",
   "execution_count": 31,
   "metadata": {
    "colab": {
     "base_uri": "https://localhost:8080/",
     "height": 34
    },
    "colab_type": "code",
    "id": "nR_uCKIEQU_C",
    "outputId": "b72f9d75-d3fa-4a86-a212-798f03550bc1"
   },
   "outputs": [
    {
     "data": {
      "text/plain": [
       "0.8929052429052429"
      ]
     },
     "execution_count": 31,
     "metadata": {
      "tags": []
     },
     "output_type": "execute_result"
    }
   ],
   "source": [
    "clf.score(X_train[features],y_train)"
   ]
  },
  {
   "cell_type": "code",
   "execution_count": 32,
   "metadata": {
    "colab": {
     "base_uri": "https://localhost:8080/",
     "height": 34
    },
    "colab_type": "code",
    "id": "eC02fOqzQbdx",
    "outputId": "ff105333-8a08-4c7a-f715-f9d0380fd084"
   },
   "outputs": [
    {
     "data": {
      "text/plain": [
       "0.7726711560044893"
      ]
     },
     "execution_count": 32,
     "metadata": {
      "tags": []
     },
     "output_type": "execute_result"
    }
   ],
   "source": [
    "clf.score(X_test[features],y_test)"
   ]
  },
  {
   "cell_type": "code",
   "execution_count": 0,
   "metadata": {
    "colab": {},
    "colab_type": "code",
    "collapsed": true,
    "id": "A1ZuSm0KQeZq"
   },
   "outputs": [],
   "source": [
    "clf = RandomForestClassifier(n_estimators=50, \n",
    "                                 min_samples_leaf=2, \n",
    "                                 max_features='auto', \n",
    "                                 oob_score=True, \n",
    "                                 random_state=20).fit(X_train[features],\n",
    "                                                      y_train)"
   ]
  },
  {
   "cell_type": "code",
   "execution_count": 73,
   "metadata": {
    "colab": {
     "base_uri": "https://localhost:8080/",
     "height": 34
    },
    "colab_type": "code",
    "id": "pHoiUyOlQkvt",
    "outputId": "2eee9cd9-f4d3-4679-e4d6-9fa5e194bb8f"
   },
   "outputs": [
    {
     "data": {
      "text/plain": [
       "0.8640692640692641"
      ]
     },
     "execution_count": 73,
     "metadata": {
      "tags": []
     },
     "output_type": "execute_result"
    }
   ],
   "source": [
    "clf.score(X_train[features],y_train)"
   ]
  },
  {
   "cell_type": "code",
   "execution_count": 72,
   "metadata": {
    "colab": {
     "base_uri": "https://localhost:8080/",
     "height": 34
    },
    "colab_type": "code",
    "id": "M4wO0G94QyLP",
    "outputId": "92d11816-22b2-4228-cee3-5c9f01a93d1a"
   },
   "outputs": [
    {
     "data": {
      "text/plain": [
       "0.7699775533108867"
      ]
     },
     "execution_count": 72,
     "metadata": {
      "tags": []
     },
     "output_type": "execute_result"
    }
   ],
   "source": [
    "clf.score(X_test[features],y_test)"
   ]
  },
  {
   "cell_type": "code",
   "execution_count": 71,
   "metadata": {
    "colab": {
     "base_uri": "https://localhost:8080/",
     "height": 34
    },
    "colab_type": "code",
    "id": "Qej10h2wgWjY",
    "outputId": "2360ebbe-f719-4c1b-b542-ea947d8377f6"
   },
   "outputs": [
    {
     "data": {
      "text/plain": [
       "0.8666265832932499"
      ]
     },
     "execution_count": 71,
     "metadata": {
      "tags": []
     },
     "output_type": "execute_result"
    }
   ],
   "source": [
    "clf.oob_score_"
   ]
  },
  {
   "cell_type": "code",
   "execution_count": 37,
   "metadata": {
    "colab": {
     "base_uri": "https://localhost:8080/",
     "height": 34
    },
    "colab_type": "code",
    "id": "cfWliRhUQznE",
    "outputId": "80eb4877-ef87-4774-f0cb-817f07b6ffd3"
   },
   "outputs": [
    {
     "name": "stdout",
     "output_type": "stream",
     "text": [
      "OOB Error Score: 0.1358\n"
     ]
    }
   ],
   "source": [
    "oob_score = round(1 - clf.oob_score_, 4)\n",
    "\n",
    "print(\"OOB Error Score: \" + str(oob_score))"
   ]
  },
  {
   "cell_type": "code",
   "execution_count": 54,
   "metadata": {
    "colab": {
     "base_uri": "https://localhost:8080/",
     "height": 1000
    },
    "colab_type": "code",
    "id": "05CrNF2KRCmk",
    "outputId": "aee6777f-9024-47eb-8d6c-e32dfc16da6a"
   },
   "outputs": [
    {
     "data": {
      "text/plain": [
       "[('amount_tsh', 0.04467276597315448),\n",
       " ('days_since_recorded', 0.12273873119168241),\n",
       " ('gps_height', 0.09236066938661483),\n",
       " ('population', 0.06066760654002296),\n",
       " ('funder_District Council', 0.0016135102063487077),\n",
       " ('funder_Kkkt', 0.0011233369634367342),\n",
       " ('funder_Tasaf', 0.0019019578939137413),\n",
       " ('funder_Unicef', 0.001876440905860816),\n",
       " ('funder_World Vision', 0.002263202083002159),\n",
       " ('funder_danida', 0.002664474024986841),\n",
       " ('funder_gov', 0.010963891386324682),\n",
       " ('funder_hesawa', 0.0033727476700147383),\n",
       " ('funder_other', 0.012175727666825351),\n",
       " ('funder_rwssp', 0.0018834711172525695),\n",
       " ('funder_world_bank', 0.0032026421999854673),\n",
       " ('installer_Central government', 0.0009273490386286816),\n",
       " ('installer_commu', 0.0010327485617640812),\n",
       " ('installer_danida', 0.0009329090587779303),\n",
       " ('installer_dwe', 0.011859116041186826),\n",
       " ('installer_gov', 0.003831748801252328),\n",
       " ('installer_hesawa', 0.0015314832809393921),\n",
       " ('installer_kkkt', 0.0007025630007947691),\n",
       " ('installer_other', 0.011519854783163436),\n",
       " ('installer_rwe', 0.004587899878747022),\n",
       " ('installer_tcrs', 0.0018840409742962375),\n",
       " ('basin_Internal', 0.008297659873869772),\n",
       " ('basin_Lake Nyasa', 0.005735143778756644),\n",
       " ('basin_Lake Rukwa', 0.005244141975008121),\n",
       " ('basin_Lake Tanganyika', 0.009705423330068708),\n",
       " ('basin_Lake Victoria', 0.009163718270603983),\n",
       " ('basin_Pangani', 0.006121606637313633),\n",
       " ('basin_Rufiji', 0.005489254359602925),\n",
       " ('basin_Ruvuma / Southern Coast', 0.005797248879699136),\n",
       " ('basin_Wami / Ruvu', 0.006023072340699694),\n",
       " ('public_meeting_False', 0.00700496006083445),\n",
       " ('public_meeting_True', 0.007577402774493238),\n",
       " ('public_meeting_Unknown', 0.004061987110732511),\n",
       " ('scheme_management_Parastatal', 0.0028844328324952873),\n",
       " ('scheme_management_company', 0.003705272156877461),\n",
       " ('scheme_management_other', 0.005171226739635672),\n",
       " ('scheme_management_pri_optr', 0.0013439937375757751),\n",
       " ('scheme_management_swc', 0.0001674618408683029),\n",
       " ('scheme_management_trust', 0.0001780668039413354),\n",
       " ('scheme_management_vwc', 0.012255649356394505),\n",
       " ('scheme_management_wtr_auth', 0.005742254064570902),\n",
       " ('scheme_management_wtr_brd', 0.0034077724238791222),\n",
       " ('scheme_management_wua', 0.0030958477430416565),\n",
       " ('scheme_management_wug', 0.006102739803269843),\n",
       " ('permit_False', 0.010577212190495209),\n",
       " ('permit_True', 0.010573803510847406),\n",
       " ('permit_Unknown', 0.00336040658187922),\n",
       " ('construction_year_00s', 0.011434763398980677),\n",
       " ('construction_year_10s', 0.010461408473234029),\n",
       " ('construction_year_60s', 0.0010371622237919833),\n",
       " ('construction_year_70s', 0.011005082895948074),\n",
       " ('construction_year_80s', 0.00782987167019718),\n",
       " ('construction_year_90s', 0.0064711079129960965),\n",
       " ('construction_year_unknown', 0.006231582845379282),\n",
       " ('extraction_type_afridev', 0.0023849831195236707),\n",
       " ('extraction_type_gravity', 0.014672091431552453),\n",
       " ('extraction_type_indiamark2', 0.0028346815334129886),\n",
       " ('extraction_type_indiamark3', 0.0005589245103929953),\n",
       " ('extraction_type_ksb', 0.00534077834995454),\n",
       " ('extraction_type_mono', 0.004066971585975231),\n",
       " ('extraction_type_nira', 0.007840472764591289),\n",
       " ('extraction_type_other', 0.040648115753811165),\n",
       " ('extraction_type_submersible', 0.005706450426638599),\n",
       " ('extraction_type_swn', 0.0038217604322222137),\n",
       " ('extraction_type_windmill', 0.00028818827671953546),\n",
       " ('water_quality_coloured', 0.0008228096110825335),\n",
       " ('water_quality_fluoride', 0.0005889826102190753),\n",
       " ('water_quality_fluoride abandoned', 5.532126677157117e-06),\n",
       " ('water_quality_milky', 0.0014279398197837776),\n",
       " ('water_quality_salty', 0.0049446102459050475),\n",
       " ('water_quality_salty abandoned', 0.001163733293640375),\n",
       " ('water_quality_soft', 0.007538967828035356),\n",
       " ('water_quality_unknown', 0.007324606706613681),\n",
       " ('quantity_group_dry', 0.12413943025964817),\n",
       " ('quantity_group_enough', 0.03554448099496066),\n",
       " ('quantity_group_insufficient', 0.015998887763487776),\n",
       " ('quantity_group_seasonal', 0.007824687123229764),\n",
       " ('quantity_group_unknown', 0.0024783478057771886),\n",
       " ('waterpoint_type_cattle trough', 0.0002849180009330102),\n",
       " ('waterpoint_type_communal standpipe', 0.01483315261556279),\n",
       " ('waterpoint_type_communal standpipe multiple', 0.016589085757737643),\n",
       " ('waterpoint_type_dam', 2.3116703436496467e-05),\n",
       " ('waterpoint_type_hand pump', 0.009856182905047717),\n",
       " ('waterpoint_type_improved spring', 0.0025687449329215655),\n",
       " ('waterpoint_type_other', 0.05232873748354664)]"
      ]
     },
     "execution_count": 54,
     "metadata": {
      "tags": []
     },
     "output_type": "execute_result"
    }
   ],
   "source": [
    "list(zip(train_values[features], clf.feature_importances_))"
   ]
  },
  {
   "cell_type": "code",
   "execution_count": 0,
   "metadata": {
    "colab": {},
    "colab_type": "code",
    "collapsed": true,
    "id": "xCvoeS4cR0jP"
   },
   "outputs": [],
   "source": [
    "fi = sorted(list(zip(train_values[features], clf.feature_importances_)), key=lambda x: str(x[1]), reverse=True)"
   ]
  },
  {
   "cell_type": "code",
   "execution_count": 56,
   "metadata": {
    "colab": {
     "base_uri": "https://localhost:8080/",
     "height": 1000
    },
    "colab_type": "code",
    "id": "CLzNBJInXcpP",
    "outputId": "a7aa473e-c532-47dd-d78a-0f109585b77e"
   },
   "outputs": [
    {
     "data": {
      "text/plain": [
       "[('water_quality_fluoride abandoned', 5.532126677157117e-06),\n",
       " ('waterpoint_type_dam', 2.3116703436496467e-05),\n",
       " ('quantity_group_dry', 0.12413943025964817),\n",
       " ('days_since_recorded', 0.12273873119168241),\n",
       " ('gps_height', 0.09236066938661483),\n",
       " ('population', 0.06066760654002296),\n",
       " ('waterpoint_type_other', 0.05232873748354664),\n",
       " ('amount_tsh', 0.04467276597315448),\n",
       " ('extraction_type_other', 0.040648115753811165),\n",
       " ('quantity_group_enough', 0.03554448099496066),\n",
       " ('waterpoint_type_communal standpipe multiple', 0.016589085757737643),\n",
       " ('quantity_group_insufficient', 0.015998887763487776),\n",
       " ('waterpoint_type_communal standpipe', 0.01483315261556279),\n",
       " ('extraction_type_gravity', 0.014672091431552453),\n",
       " ('scheme_management_vwc', 0.012255649356394505),\n",
       " ('funder_other', 0.012175727666825351),\n",
       " ('installer_dwe', 0.011859116041186826),\n",
       " ('installer_other', 0.011519854783163436),\n",
       " ('construction_year_00s', 0.011434763398980677),\n",
       " ('construction_year_70s', 0.011005082895948074),\n",
       " ('funder_gov', 0.010963891386324682),\n",
       " ('permit_False', 0.010577212190495209),\n",
       " ('permit_True', 0.010573803510847406),\n",
       " ('construction_year_10s', 0.010461408473234029),\n",
       " ('waterpoint_type_hand pump', 0.009856182905047717),\n",
       " ('basin_Lake Tanganyika', 0.009705423330068708),\n",
       " ('basin_Lake Victoria', 0.009163718270603983),\n",
       " ('basin_Internal', 0.008297659873869772),\n",
       " ('extraction_type_nira', 0.007840472764591289),\n",
       " ('construction_year_80s', 0.00782987167019718),\n",
       " ('quantity_group_seasonal', 0.007824687123229764),\n",
       " ('public_meeting_True', 0.007577402774493238),\n",
       " ('water_quality_soft', 0.007538967828035356),\n",
       " ('water_quality_unknown', 0.007324606706613681),\n",
       " ('public_meeting_False', 0.00700496006083445),\n",
       " ('construction_year_90s', 0.0064711079129960965),\n",
       " ('construction_year_unknown', 0.006231582845379282),\n",
       " ('basin_Pangani', 0.006121606637313633),\n",
       " ('scheme_management_wug', 0.006102739803269843),\n",
       " ('basin_Wami / Ruvu', 0.006023072340699694),\n",
       " ('basin_Ruvuma / Southern Coast', 0.005797248879699136),\n",
       " ('scheme_management_wtr_auth', 0.005742254064570902),\n",
       " ('basin_Lake Nyasa', 0.005735143778756644),\n",
       " ('extraction_type_submersible', 0.005706450426638599),\n",
       " ('basin_Rufiji', 0.005489254359602925),\n",
       " ('extraction_type_ksb', 0.00534077834995454),\n",
       " ('basin_Lake Rukwa', 0.005244141975008121),\n",
       " ('scheme_management_other', 0.005171226739635672),\n",
       " ('water_quality_salty', 0.0049446102459050475),\n",
       " ('installer_rwe', 0.004587899878747022),\n",
       " ('extraction_type_mono', 0.004066971585975231),\n",
       " ('public_meeting_Unknown', 0.004061987110732511),\n",
       " ('installer_gov', 0.003831748801252328),\n",
       " ('extraction_type_swn', 0.0038217604322222137),\n",
       " ('scheme_management_company', 0.003705272156877461),\n",
       " ('scheme_management_wtr_brd', 0.0034077724238791222),\n",
       " ('funder_hesawa', 0.0033727476700147383),\n",
       " ('permit_Unknown', 0.00336040658187922),\n",
       " ('funder_world_bank', 0.0032026421999854673),\n",
       " ('scheme_management_wua', 0.0030958477430416565),\n",
       " ('scheme_management_Parastatal', 0.0028844328324952873),\n",
       " ('extraction_type_indiamark2', 0.0028346815334129886),\n",
       " ('funder_danida', 0.002664474024986841),\n",
       " ('waterpoint_type_improved spring', 0.0025687449329215655),\n",
       " ('quantity_group_unknown', 0.0024783478057771886),\n",
       " ('extraction_type_afridev', 0.0023849831195236707),\n",
       " ('funder_World Vision', 0.002263202083002159),\n",
       " ('funder_Tasaf', 0.0019019578939137413),\n",
       " ('installer_tcrs', 0.0018840409742962375),\n",
       " ('funder_rwssp', 0.0018834711172525695),\n",
       " ('funder_Unicef', 0.001876440905860816),\n",
       " ('funder_District Council', 0.0016135102063487077),\n",
       " ('installer_hesawa', 0.0015314832809393921),\n",
       " ('water_quality_milky', 0.0014279398197837776),\n",
       " ('scheme_management_pri_optr', 0.0013439937375757751),\n",
       " ('water_quality_salty abandoned', 0.001163733293640375),\n",
       " ('funder_Kkkt', 0.0011233369634367342),\n",
       " ('construction_year_60s', 0.0010371622237919833),\n",
       " ('installer_commu', 0.0010327485617640812),\n",
       " ('installer_danida', 0.0009329090587779303),\n",
       " ('installer_Central government', 0.0009273490386286816),\n",
       " ('water_quality_coloured', 0.0008228096110825335),\n",
       " ('installer_kkkt', 0.0007025630007947691),\n",
       " ('water_quality_fluoride', 0.0005889826102190753),\n",
       " ('extraction_type_indiamark3', 0.0005589245103929953),\n",
       " ('extraction_type_windmill', 0.00028818827671953546),\n",
       " ('waterpoint_type_cattle trough', 0.0002849180009330102),\n",
       " ('scheme_management_trust', 0.0001780668039413354),\n",
       " ('scheme_management_swc', 0.0001674618408683029)]"
      ]
     },
     "execution_count": 56,
     "metadata": {
      "tags": []
     },
     "output_type": "execute_result"
    }
   ],
   "source": [
    "fi"
   ]
  },
  {
   "cell_type": "code",
   "execution_count": 0,
   "metadata": {
    "colab": {},
    "colab_type": "code",
    "collapsed": true,
    "id": "GTxivHkYXdrD"
   },
   "outputs": [],
   "source": [
    "last_fi = [fi[0] for fi in fi[-1:]]\n",
    "exclude = exclude + tuple(last_fi)"
   ]
  },
  {
   "cell_type": "code",
   "execution_count": 58,
   "metadata": {
    "colab": {
     "base_uri": "https://localhost:8080/",
     "height": 34
    },
    "colab_type": "code",
    "id": "GIlxcdMUX-Pk",
    "outputId": "f7c9914b-408a-4276-ba39-a17b43b384ea"
   },
   "outputs": [
    {
     "data": {
      "text/plain": [
       "['scheme_management_swc']"
      ]
     },
     "execution_count": 58,
     "metadata": {
      "tags": []
     },
     "output_type": "execute_result"
    }
   ],
   "source": [
    "last_fi"
   ]
  },
  {
   "cell_type": "code",
   "execution_count": 61,
   "metadata": {
    "colab": {
     "base_uri": "https://localhost:8080/",
     "height": 34
    },
    "colab_type": "code",
    "id": "2ad4zVi-X_oc",
    "outputId": "1df55771-0944-4eed-ce90-3b126835b0c1"
   },
   "outputs": [
    {
     "name": "stdout",
     "output_type": "stream",
     "text": [
      "['scheme_management_swc']\n"
     ]
    }
   ],
   "source": [
    "print(last_fi)"
   ]
  },
  {
   "cell_type": "code",
   "execution_count": 0,
   "metadata": {
    "colab": {},
    "colab_type": "code",
    "collapsed": true,
    "id": "RWa7ySS9ZTN6"
   },
   "outputs": [],
   "source": [
    "error_score = OrderedDict()"
   ]
  },
  {
   "cell_type": "code",
   "execution_count": 0,
   "metadata": {
    "colab": {},
    "colab_type": "code",
    "collapsed": true,
    "id": "Z5YbNkYyYGiY"
   },
   "outputs": [],
   "source": [
    "error_score[last_fi[0]] = oob_score"
   ]
  },
  {
   "cell_type": "code",
   "execution_count": 66,
   "metadata": {
    "colab": {
     "base_uri": "https://localhost:8080/",
     "height": 34
    },
    "colab_type": "code",
    "id": "3E6ugoCpZAtV",
    "outputId": "a782143f-70cd-4c0a-d47b-62f6b9f98c9a"
   },
   "outputs": [
    {
     "data": {
      "text/plain": [
       "OrderedDict([('scheme_management_swc', 0.1358)])"
      ]
     },
     "execution_count": 66,
     "metadata": {
      "tags": []
     },
     "output_type": "execute_result"
    }
   ],
   "source": [
    "error_score"
   ]
  },
  {
   "cell_type": "code",
   "execution_count": 76,
   "metadata": {
    "colab": {
     "base_uri": "https://localhost:8080/",
     "height": 50
    },
    "colab_type": "code",
    "id": "5DYbX92gZo1J",
    "outputId": "9187b6ee-50f1-4592-9351-b5125155b884"
   },
   "outputs": [
    {
     "name": "stdout",
     "output_type": "stream",
     "text": [
      "['scheme_management_swc']\n"
     ]
    },
    {
     "data": {
      "text/plain": [
       "30"
      ]
     },
     "execution_count": 76,
     "metadata": {
      "tags": []
     },
     "output_type": "execute_result"
    }
   ],
   "source": [
    "fi = sorted(list(zip(train_values[features], clf.feature_importances_)), key=lambda x: str(x[1]), reverse=True)\n",
    "last_fi = [fi[0] for fi in fi[-1::1]]\n",
    "exclude = exclude + tuple(last_fi)\n",
    "    \n",
    "print(last_fi)\n",
    "    \n",
    "error_score[last_fi[0]] = oob_score\n",
    "\n",
    "with open(\"feature_selection.csv\", \"w\") as csv_file:\n",
    "  writer = csv.writer(csv_file)\n",
    "  for key, value in error_score.items():\n",
    "    writer.writerow([key, value])\n",
    "    csv_file.close()\n",
    "        \n",
    "    if len(fi) < 400:\n",
    "            break"
   ]
  },
  {
   "cell_type": "code",
   "execution_count": 80,
   "metadata": {
    "colab": {
     "base_uri": "https://localhost:8080/",
     "height": 50
    },
    "colab_type": "code",
    "id": "Pe6yLWkbZ5M3",
    "outputId": "c235e727-3020-4d2b-bfab-994158292829"
   },
   "outputs": [
    {
     "data": {
      "text/plain": [
       "PCA(copy=True, iterated_power='auto', n_components=88, random_state=None,\n",
       "    svd_solver='auto', tol=0.0, whiten=False)"
      ]
     },
     "execution_count": 80,
     "metadata": {
      "tags": []
     },
     "output_type": "execute_result"
    }
   ],
   "source": [
    "pca = PCA(n_components=88)\n",
    "\n",
    "pca.fit(X_train[features])"
   ]
  },
  {
   "cell_type": "code",
   "execution_count": 0,
   "metadata": {
    "colab": {},
    "colab_type": "code",
    "collapsed": true,
    "id": "MMVrGUFji9rB"
   },
   "outputs": [],
   "source": [
    "var= pca.explained_variance_ratio_"
   ]
  },
  {
   "cell_type": "code",
   "execution_count": 0,
   "metadata": {
    "colab": {},
    "colab_type": "code",
    "collapsed": true,
    "id": "8N_BrNQqlgi1"
   },
   "outputs": [],
   "source": [
    "var1=np.cumsum(np.round(pca.explained_variance_ratio_, decimals=4)*100)\n"
   ]
  },
  {
   "cell_type": "code",
   "execution_count": 83,
   "metadata": {
    "colab": {
     "base_uri": "https://localhost:8080/",
     "height": 386
    },
    "colab_type": "code",
    "id": "YM6Q6jHMll6s",
    "outputId": "00517c97-7edf-4435-cb2d-c2eced6aef5e"
   },
   "outputs": [
    {
     "name": "stdout",
     "output_type": "stream",
     "text": [
      "[5.25749493e-02 3.65759899e-02 3.27581073e-02 3.02275232e-02\n",
      " 2.79589866e-02 2.60024498e-02 2.49921458e-02 2.36906484e-02\n",
      " 2.24901511e-02 2.11650919e-02 2.08265660e-02 1.94759164e-02\n",
      " 1.93322204e-02 1.82841917e-02 1.74267144e-02 1.66747342e-02\n",
      " 1.63047418e-02 1.57367566e-02 1.56951037e-02 1.53974166e-02\n",
      " 1.48208520e-02 1.46469956e-02 1.41772527e-02 1.40099008e-02\n",
      " 1.36209852e-02 1.33280141e-02 1.30399416e-02 1.29663286e-02\n",
      " 1.28148858e-02 1.25240036e-02 1.22476890e-02 1.21655365e-02\n",
      " 1.20725181e-02 1.18540494e-02 1.16300388e-02 1.15269997e-02\n",
      " 1.14401976e-02 1.13603860e-02 1.12433722e-02 1.11772164e-02\n",
      " 1.08280648e-02 1.07454187e-02 1.07225224e-02 1.04737086e-02\n",
      " 1.04367658e-02 1.02615383e-02 1.02085709e-02 9.96702826e-03\n",
      " 9.89567054e-03 9.71620994e-03 9.52255251e-03 9.19861830e-03\n",
      " 8.99296569e-03 8.93226643e-03 8.64133671e-03 8.54790393e-03\n",
      " 8.33548712e-03 8.06861881e-03 7.96067510e-03 7.68260195e-03\n",
      " 7.50461843e-03 7.41974402e-03 7.32029168e-03 6.88794517e-03\n",
      " 6.74592456e-03 6.44891396e-03 6.25476687e-03 5.96623787e-03\n",
      " 5.43524572e-03 5.06979081e-03 4.96823570e-03 4.22960820e-03\n",
      " 3.46215613e-03 2.64789402e-03 1.83348719e-03 1.68755300e-03\n",
      " 6.89475175e-04 3.20179821e-05 1.03685805e-32 4.14998518e-33\n",
      " 2.37525064e-33 2.28515548e-33 2.06757648e-33 1.81859123e-33\n",
      " 1.44694738e-33 9.82683399e-34 9.80083414e-34 4.07401449e-34]\n"
     ]
    }
   ],
   "source": [
    "print(var)"
   ]
  },
  {
   "cell_type": "code",
   "execution_count": 84,
   "metadata": {
    "colab": {
     "base_uri": "https://localhost:8080/",
     "height": 151
    },
    "colab_type": "code",
    "id": "ptIbLWQ_lqU5",
    "outputId": "32a00776-9854-4fbe-bcf4-f387e1d55df4"
   },
   "outputs": [
    {
     "name": "stdout",
     "output_type": "stream",
     "text": [
      "[ 5.26  8.92 12.2  15.22 18.02 20.62 23.12 25.49 27.74 29.86 31.94 33.89\n",
      " 35.82 37.65 39.39 41.06 42.69 44.26 45.83 47.37 48.85 50.31 51.73 53.13\n",
      " 54.49 55.82 57.12 58.42 59.7  60.95 62.17 63.39 64.6  65.79 66.95 68.1\n",
      " 69.24 70.38 71.5  72.62 73.7  74.77 75.84 76.89 77.93 78.96 79.98 80.98\n",
      " 81.97 82.94 83.89 84.81 85.71 86.6  87.46 88.31 89.14 89.95 90.75 91.52\n",
      " 92.27 93.01 93.74 94.43 95.1  95.74 96.37 96.97 97.51 98.02 98.52 98.94\n",
      " 99.29 99.55 99.73 99.9  99.97 99.97 99.97 99.97 99.97 99.97 99.97 99.97\n",
      " 99.97 99.97 99.97 99.97]\n"
     ]
    }
   ],
   "source": [
    "print(var1)"
   ]
  },
  {
   "cell_type": "code",
   "execution_count": 85,
   "metadata": {
    "colab": {
     "base_uri": "https://localhost:8080/",
     "height": 282
    },
    "colab_type": "code",
    "id": "XVBYExwJlsE4",
    "outputId": "8c5b327e-c375-4f65-e2a0-7fdf1d9b2b49"
   },
   "outputs": [
    {
     "data": {
      "text/plain": [
       "[<matplotlib.lines.Line2D at 0x7f0dd58460b8>]"
      ]
     },
     "execution_count": 85,
     "metadata": {
      "tags": []
     },
     "output_type": "execute_result"
    },
    {
     "data": {
      "image/png": "[encoded data removed]",
      "text/plain": [
       "<Figure size 432x288 with 1 Axes>"
      ]
     },
     "metadata": {
      "tags": []
     },
     "output_type": "display_data"
    }
   ],
   "source": [
    "plt.plot(var1)"
   ]
  },
  {
   "cell_type": "code",
   "execution_count": 21,
   "metadata": {
    "colab": {
     "base_uri": "https://localhost:8080/",
     "height": 195
    },
    "colab_type": "code",
    "id": "4a3BKFcblvJS",
    "outputId": "71134a7c-03e2-41f1-b3d3-6ce73cb29425"
   },
   "outputs": [
    {
     "ename": "NameError",
     "evalue": "ignored",
     "output_type": "error",
     "traceback": [
      "\u001b[0;31m---------------------------------------------------------------------------\u001b[0m",
      "\u001b[0;31mNameError\u001b[0m                                 Traceback (most recent call last)",
      "\u001b[0;32m<ipython-input-21-8458742d7a12>\u001b[0m in \u001b[0;36m<module>\u001b[0;34m()\u001b[0m\n\u001b[0;32m----> 1\u001b[0;31m \u001b[0mpca_final\u001b[0m\u001b[0;34m=\u001b[0m\u001b[0mPCA\u001b[0m\u001b[0;34m(\u001b[0m\u001b[0mn_components\u001b[0m\u001b[0;34m=\u001b[0m\u001b[0;36m70\u001b[0m\u001b[0;34m)\u001b[0m\u001b[0;34m\u001b[0m\u001b[0;34m\u001b[0m\u001b[0m\n\u001b[0m\u001b[1;32m      2\u001b[0m \u001b[0mpca_final\u001b[0m\u001b[0;34m.\u001b[0m\u001b[0mfit\u001b[0m\u001b[0;34m(\u001b[0m\u001b[0mX_train\u001b[0m\u001b[0;34m[\u001b[0m\u001b[0mfeatures\u001b[0m\u001b[0;34m]\u001b[0m\u001b[0;34m)\u001b[0m\u001b[0;34m\u001b[0m\u001b[0;34m\u001b[0m\u001b[0m\n\u001b[1;32m      3\u001b[0m \u001b[0mpca_labelfit\u001b[0m\u001b[0;34m=\u001b[0m\u001b[0mPCA\u001b[0m\u001b[0;34m(\u001b[0m\u001b[0mn_components\u001b[0m\u001b[0;34m=\u001b[0m\u001b[0;36m70\u001b[0m\u001b[0;34m)\u001b[0m\u001b[0;34m\u001b[0m\u001b[0;34m\u001b[0m\u001b[0m\n",
      "\u001b[0;31mNameError\u001b[0m: name 'PCA' is not defined"
     ]
    }
   ],
   "source": [
    "pca_final=PCA(n_components=70)\n",
    "pca_final.fit(X_train[features])\n",
    "pca_labelfit=PCA(n_components=70)"
   ]
  },
  {
   "cell_type": "code",
   "execution_count": 0,
   "metadata": {
    "colab": {},
    "colab_type": "code",
    "collapsed": true,
    "id": "WXQwixGCmJRL"
   },
   "outputs": [],
   "source": [
    "Xt=pca_final.fit_transform(X_train[features])\n",
    "Xtest_t=pca_labelfit.fit_transform(X_test[features])"
   ]
  },
  {
   "cell_type": "code",
   "execution_count": 89,
   "metadata": {
    "colab": {
     "base_uri": "https://localhost:8080/",
     "height": 34
    },
    "colab_type": "code",
    "id": "_E8Xf-v2mU3b",
    "outputId": "ea967d8a-7f10-4157-e40b-7691eae3c9c2"
   },
   "outputs": [
    {
     "data": {
      "text/plain": [
       "(41580, 70)"
      ]
     },
     "execution_count": 89,
     "metadata": {
      "tags": []
     },
     "output_type": "execute_result"
    }
   ],
   "source": [
    "Xt.shape"
   ]
  },
  {
   "cell_type": "code",
   "execution_count": 0,
   "metadata": {
    "colab": {},
    "colab_type": "code",
    "collapsed": true,
    "id": "nJsmd7k1mWib"
   },
   "outputs": [],
   "source": [
    "clf = RandomForestClassifier(n_estimators=50, \n",
    "                             min_samples_leaf=2, \n",
    "                             max_features=0.20, \n",
    "                             oob_score=True, \n",
    "                             random_state=20).fit(Xt,\n",
    "                                                  y_train)"
   ]
  },
  {
   "cell_type": "code",
   "execution_count": 97,
   "metadata": {
    "colab": {
     "base_uri": "https://localhost:8080/",
     "height": 34
    },
    "colab_type": "code",
    "id": "LNwDQNRsmung",
    "outputId": "7bb5d906-45bc-4fc6-9d04-4f8e01f365dc"
   },
   "outputs": [
    {
     "data": {
      "text/plain": [
       "0.2441638608305275"
      ]
     },
     "execution_count": 97,
     "metadata": {
      "tags": []
     },
     "output_type": "execute_result"
    }
   ],
   "source": [
    "clf.score(Xtest_t,y_test)"
   ]
  },
  {
   "cell_type": "code",
   "execution_count": 0,
   "metadata": {
    "colab": {},
    "colab_type": "code",
    "collapsed": true,
    "id": "3xEWcdE3nCb4"
   },
   "outputs": [],
   "source": []
  }
 ],
 "metadata": {
  "colab": {
   "collapsed_sections": [],
   "machine_shape": "hm",
   "name": "Feature Selection.ipynb",
   "provenance": []
  },
  "kernelspec": {
   "display_name": "Python 3",
   "language": "python",
   "name": "python3"
  },
  "language_info": {
   "codemirror_mode": {
    "name": "ipython",
    "version": 3
   },
   "file_extension": ".py",
   "mimetype": "text/x-python",
   "name": "python",
   "nbconvert_exporter": "python",
   "pygments_lexer": "ipython3",
   "version": "3.6.1"
  }
 },
 "nbformat": 4,
 "nbformat_minor": 1
}
